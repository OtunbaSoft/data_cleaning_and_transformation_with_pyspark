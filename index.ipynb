{
 "cells": [
  {
   "cell_type": "code",
   "execution_count": 69,
   "metadata": {},
   "outputs": [],
   "source": [
    "from pyspark.sql import SparkSession\n",
    "\n",
    "spark = SparkSession.builder.appName('rheeza_pharm').getOrCreate()"
   ]
  },
  {
   "cell_type": "markdown",
   "metadata": {},
   "source": [
    "## Understand the dataset"
   ]
  },
  {
   "cell_type": "code",
   "execution_count": 70,
   "metadata": {},
   "outputs": [
    {
     "name": "stdout",
     "output_type": "stream",
     "text": [
      "+----------------+--------------------+---------+-----------------+-------------------+------------------------------+--------------------+\n",
      "|ageofparticipant|           clinician|drug_used|experimentenddate|experimentstartdate|noofhourspassedatfirstreaction|              result|\n",
      "+----------------+--------------------+---------+-----------------+-------------------+------------------------------+--------------------+\n",
      "|              19|{Ontario, Saul, t...|  Placebo|    1619827200000|      1617235200000|                            52|{BP normalized, r...|\n",
      "|              14|{Ontario, Saul, n...| Naproxen|    1619827200000|      1617235200000|                            78|    {Follow-up, N/A}|\n",
      "|              17|{Ontario, Saul, n...|  Placebo|    1619827200000|      1617235200000|                            14|    {Follow-up, N/A}|\n",
      "+----------------+--------------------+---------+-----------------+-------------------+------------------------------+--------------------+\n",
      "only showing top 3 rows\n",
      "\n"
     ]
    }
   ],
   "source": [
    "trial_df = spark.read.json('dataset.json', multiLine= True)\n",
    "trial_df.show(3)"
   ]
  },
  {
   "cell_type": "code",
   "execution_count": 71,
   "metadata": {},
   "outputs": [
    {
     "name": "stdout",
     "output_type": "stream",
     "text": [
      "root\n",
      " |-- ageofparticipant: long (nullable = true)\n",
      " |-- clinician: struct (nullable = true)\n",
      " |    |-- branch: string (nullable = true)\n",
      " |    |-- name: string (nullable = true)\n",
      " |    |-- role: string (nullable = true)\n",
      " |-- drug_used: string (nullable = true)\n",
      " |-- experimentenddate: string (nullable = true)\n",
      " |-- experimentstartdate: string (nullable = true)\n",
      " |-- noofhourspassedatfirstreaction: long (nullable = true)\n",
      " |-- result: struct (nullable = true)\n",
      " |    |-- conclusion: string (nullable = true)\n",
      " |    |-- sideeffectsonparticipant: string (nullable = true)\n",
      "\n"
     ]
    }
   ],
   "source": [
    "trial_df.printSchema()"
   ]
  },
  {
   "cell_type": "code",
   "execution_count": 72,
   "metadata": {},
   "outputs": [
    {
     "data": {
      "text/plain": [
       "[('ageofparticipant', 'bigint'),\n",
       " ('clinician', 'struct<branch:string,name:string,role:string>'),\n",
       " ('drug_used', 'string'),\n",
       " ('experimentenddate', 'string'),\n",
       " ('experimentstartdate', 'string'),\n",
       " ('noofhourspassedatfirstreaction', 'bigint'),\n",
       " ('result', 'struct<conclusion:string,sideeffectsonparticipant:string>')]"
      ]
     },
     "execution_count": 72,
     "metadata": {},
     "output_type": "execute_result"
    }
   ],
   "source": [
    "trial_df.dtypes"
   ]
  },
  {
   "cell_type": "code",
   "execution_count": 73,
   "metadata": {},
   "outputs": [
    {
     "data": {
      "text/plain": [
       "['ageofparticipant',\n",
       " 'clinician',\n",
       " 'drug_used',\n",
       " 'experimentenddate',\n",
       " 'experimentstartdate',\n",
       " 'noofhourspassedatfirstreaction',\n",
       " 'result']"
      ]
     },
     "execution_count": 73,
     "metadata": {},
     "output_type": "execute_result"
    }
   ],
   "source": [
    "trial_df.columns"
   ]
  },
  {
   "cell_type": "code",
   "execution_count": 74,
   "metadata": {},
   "outputs": [],
   "source": [
    "columns= ['ageofparticipant',\n",
    " 'clinician.branch',\n",
    " 'clinician.name',\n",
    " 'clinician.role',\n",
    " 'drug_used',\n",
    " 'experimentenddate',\n",
    " 'experimentstartdate',\n",
    " 'noofhourspassedatfirstreaction',\n",
    " 'result.conclusion',\n",
    " 'result.sideeffectsonparticipant']"
   ]
  },
  {
   "cell_type": "code",
   "execution_count": 75,
   "metadata": {},
   "outputs": [
    {
     "name": "stdout",
     "output_type": "stream",
     "text": [
      "+----------------+-------+-------+---------+---------+-----------------+-------------------+------------------------------+-------------+------------------------+\n",
      "|ageofparticipant| branch|   name|     role|drug_used|experimentenddate|experimentstartdate|noofhourspassedatfirstreaction|   conclusion|sideeffectsonparticipant|\n",
      "+----------------+-------+-------+---------+---------+-----------------+-------------------+------------------------------+-------------+------------------------+\n",
      "|              19|Ontario|   Saul|therapist|  Placebo|    1619827200000|      1617235200000|                            52|BP normalized|          rashes on neck|\n",
      "|              14|Ontario|   Saul|    nurse| Naproxen|    1619827200000|      1617235200000|                            78|    Follow-up|                     N/A|\n",
      "|              17|Ontario|   Saul|    nurse|  Placebo|    1619827200000|      1617235200000|                            14|    Follow-up|                     N/A|\n",
      "|              18|Ontario|   Will|    nurse| Naproxen|    1619827200000|      1617235200000|                            14|BP normalized|                     N/A|\n",
      "|              17|Ontario|Patrick|   doctor| Naproxen|    1619827200000|      1617235200000|                            22|    No effect|          rashes on neck|\n",
      "+----------------+-------+-------+---------+---------+-----------------+-------------------+------------------------------+-------------+------------------------+\n",
      "only showing top 5 rows\n",
      "\n"
     ]
    }
   ],
   "source": [
    "# flattening the nested column\n",
    "trial_df.select(columns).show(5) "
   ]
  },
  {
   "cell_type": "code",
   "execution_count": 76,
   "metadata": {},
   "outputs": [],
   "source": [
    "from pyspark.sql import functions as fn"
   ]
  },
  {
   "cell_type": "code",
   "execution_count": 77,
   "metadata": {},
   "outputs": [
    {
     "name": "stdout",
     "output_type": "stream",
     "text": [
      "+----------------+----------------+--------------+--------------+---------+-----------------+-------------------+------------------------------+-----------------+-------------------------------+\n",
      "|ageofparticipant|clinician.branch|clinician.name|clinician.role|drug_used|experimentenddate|experimentstartdate|noofhourspassedatfirstreaction|result.conclusion|result.sideeffectsonparticipant|\n",
      "+----------------+----------------+--------------+--------------+---------+-----------------+-------------------+------------------------------+-----------------+-------------------------------+\n",
      "|               0|               0|             0|           109|        0|                0|                  0|                            73|               53|                              0|\n",
      "+----------------+----------------+--------------+--------------+---------+-----------------+-------------------+------------------------------+-----------------+-------------------------------+\n",
      "\n"
     ]
    }
   ],
   "source": [
    "#  displaying count of null values in the columns\n",
    "trial_df.select([fn.count(fn.when(fn.col(column).isNull(), column)).alias(column) for column in columns]).show()"
   ]
  },
  {
   "cell_type": "markdown",
   "metadata": {},
   "source": [
    "## Cleaning"
   ]
  },
  {
   "cell_type": "code",
   "execution_count": 78,
   "metadata": {},
   "outputs": [
    {
     "name": "stdout",
     "output_type": "stream",
     "text": [
      "root\n",
      " |-- ageofparticipant: long (nullable = true)\n",
      " |-- branch: string (nullable = true)\n",
      " |-- name: string (nullable = true)\n",
      " |-- role: string (nullable = true)\n",
      " |-- drug_used: string (nullable = true)\n",
      " |-- experimentenddate: string (nullable = true)\n",
      " |-- experimentstartdate: string (nullable = true)\n",
      " |-- noofhourspassedatfirstreaction: long (nullable = true)\n",
      " |-- conclusion: string (nullable = true)\n",
      " |-- sideeffectsonparticipant: string (nullable = true)\n",
      "\n"
     ]
    }
   ],
   "source": [
    "# flattening the data\n",
    "new_trials_df = trial_df.select(columns)\n",
    "new_trials_df.printSchema()"
   ]
  },
  {
   "cell_type": "code",
   "execution_count": 79,
   "metadata": {},
   "outputs": [],
   "source": [
    "#  Renaming columns\n",
    "new_column_name = {\n",
    "    'ageofparticipant': 'age_of_participant'\n",
    "    ,'branch': 'clinic_branch'\n",
    "    ,'name': 'head_clinician'\n",
    "    ,'role': 'assistants_role'\n",
    "    ,'experimentenddate': 'experiment_end_date'\n",
    "    ,'experimentstartdate': 'experiment_start_date'\n",
    "    ,'experimentenddate': 'experiment_end_date'\n",
    "    ,'noofhourspassedatfirstreaction': 'hours_passed_at_first_reaction'\n",
    "    ,'sideeffectsonparticipant': 'observed_side_effects'\n",
    "    }\n",
    "\n",
    "new_trials_df= new_trials_df.withColumnsRenamed(new_column_name)"
   ]
  },
  {
   "cell_type": "code",
   "execution_count": 80,
   "metadata": {},
   "outputs": [
    {
     "name": "stdout",
     "output_type": "stream",
     "text": [
      "+------------------+-------------+--------------+---------------+---------+-------------------+---------------------+------------------------------+-------------+---------------------+\n",
      "|age_of_participant|clinic_branch|head_clinician|assistants_role|drug_used|experiment_end_date|experiment_start_date|hours_passed_at_first_reaction|   conclusion|observed_side_effects|\n",
      "+------------------+-------------+--------------+---------------+---------+-------------------+---------------------+------------------------------+-------------+---------------------+\n",
      "|                19|      Ontario|          Saul|      therapist|  Placebo|      1619827200000|        1617235200000|                            52|BP normalized|       rashes on neck|\n",
      "|                14|      Ontario|          Saul|          nurse| Naproxen|      1619827200000|        1617235200000|                            78|    Follow-up|                  N/A|\n",
      "+------------------+-------------+--------------+---------------+---------+-------------------+---------------------+------------------------------+-------------+---------------------+\n",
      "only showing top 2 rows\n",
      "\n"
     ]
    }
   ],
   "source": [
    "new_trials_df.show(2)"
   ]
  },
  {
   "cell_type": "code",
   "execution_count": 81,
   "metadata": {},
   "outputs": [
    {
     "name": "stdout",
     "output_type": "stream",
     "text": [
      "root\n",
      " |-- age_of_participant: long (nullable = true)\n",
      " |-- clinic_branch: string (nullable = true)\n",
      " |-- head_clinician: string (nullable = true)\n",
      " |-- assistants_role: string (nullable = true)\n",
      " |-- drug_used: string (nullable = true)\n",
      " |-- experiment_end_date: string (nullable = true)\n",
      " |-- experiment_start_date: string (nullable = true)\n",
      " |-- hours_passed_at_first_reaction: long (nullable = true)\n",
      " |-- conclusion: string (nullable = true)\n",
      " |-- observed_side_effects: string (nullable = true)\n",
      "\n"
     ]
    }
   ],
   "source": [
    "new_trials_df.printSchema()"
   ]
  },
  {
   "cell_type": "code",
   "execution_count": 82,
   "metadata": {},
   "outputs": [
    {
     "data": {
      "text/plain": [
       "[('age_of_participant', 'bigint'),\n",
       " ('clinic_branch', 'string'),\n",
       " ('head_clinician', 'string'),\n",
       " ('assistants_role', 'string'),\n",
       " ('drug_used', 'string'),\n",
       " ('experiment_end_date', 'string'),\n",
       " ('experiment_start_date', 'string'),\n",
       " ('hours_passed_at_first_reaction', 'bigint'),\n",
       " ('conclusion', 'string'),\n",
       " ('observed_side_effects', 'string')]"
      ]
     },
     "execution_count": 82,
     "metadata": {},
     "output_type": "execute_result"
    }
   ],
   "source": [
    "new_trials_df.dtypes"
   ]
  },
  {
   "cell_type": "code",
   "execution_count": 83,
   "metadata": {},
   "outputs": [
    {
     "name": "stdout",
     "output_type": "stream",
     "text": [
      "+-------+------------------+-------------+--------------+---------------+---------+--------------------+---------------------+------------------------------+-------------+---------------------+\n",
      "|summary|age_of_participant|clinic_branch|head_clinician|assistants_role|drug_used| experiment_end_date|experiment_start_date|hours_passed_at_first_reaction|   conclusion|observed_side_effects|\n",
      "+-------+------------------+-------------+--------------+---------------+---------+--------------------+---------------------+------------------------------+-------------+---------------------+\n",
      "|  count|              3586|         3586|          3586|           3477|     3586|                3586|                 3586|                          3513|         3533|                 3586|\n",
      "|   mean|17.507250418293363|         null|          null|           null|     null|1.618381578137200...| 1.615813671834913...|             44.89097637346997|         null|                 null|\n",
      "| stddev|2.3066401927555233|         null|          null|           null|     null|2.3250351904618263E9| 2.2862846039555306E9|            24.540325490035848|         null|                 null|\n",
      "|    min|                14|      Alberta|        Colins|         doctor| Naproxen|       1614643200000|        1612137600000|                             3|BP normalized|                  N/A|\n",
      "|    max|                21|       Quebec|       Windsor|      therapist|  Placebo|       1619827200000|        1617235200000|                            87|    No effect|       rashes on neck|\n",
      "+-------+------------------+-------------+--------------+---------------+---------+--------------------+---------------------+------------------------------+-------------+---------------------+\n",
      "\n"
     ]
    }
   ],
   "source": [
    "new_trials_df.describe().show()"
   ]
  },
  {
   "cell_type": "code",
   "execution_count": 84,
   "metadata": {},
   "outputs": [],
   "source": [
    "#  filling null values\n",
    "new_trials_df = new_trials_df.na.fill({'conclusion': 'unknown', 'assistants_role': 'unknown', 'hours_passed_at_first_reaction': 0})"
   ]
  },
  {
   "cell_type": "code",
   "execution_count": 85,
   "metadata": {},
   "outputs": [
    {
     "name": "stdout",
     "output_type": "stream",
     "text": [
      "+-------+------------------+-------------+--------------+---------------+---------+--------------------+---------------------+------------------------------+-------------+---------------------+\n",
      "|summary|age_of_participant|clinic_branch|head_clinician|assistants_role|drug_used| experiment_end_date|experiment_start_date|hours_passed_at_first_reaction|   conclusion|observed_side_effects|\n",
      "+-------+------------------+-------------+--------------+---------------+---------+--------------------+---------------------+------------------------------+-------------+---------------------+\n",
      "|  count|              3586|         3586|          3586|           3586|     3586|                3586|                 3586|                          3586|         3586|                 3586|\n",
      "|   mean|17.507250418293363|         null|          null|           null|     null|1.618381578137200...| 1.615813671834913...|              43.9771332961517|         null|                 null|\n",
      "| stddev|2.3066401927555233|         null|          null|           null|     null|2.3250351904618263E9| 2.2862846039555306E9|             25.10306856909051|         null|                 null|\n",
      "|    min|                14|      Alberta|        Colins|         doctor| Naproxen|       1614643200000|        1612137600000|                             0|BP normalized|                  N/A|\n",
      "|    max|                21|       Quebec|       Windsor|        unknown|  Placebo|       1619827200000|        1617235200000|                            87|      unknown|       rashes on neck|\n",
      "+-------+------------------+-------------+--------------+---------------+---------+--------------------+---------------------+------------------------------+-------------+---------------------+\n",
      "\n"
     ]
    }
   ],
   "source": [
    "new_trials_df.describe().show()"
   ]
  },
  {
   "cell_type": "markdown",
   "metadata": {},
   "source": [
    "## Transformation"
   ]
  },
  {
   "cell_type": "code",
   "execution_count": 86,
   "metadata": {},
   "outputs": [
    {
     "name": "stdout",
     "output_type": "stream",
     "text": [
      "root\n",
      " |-- age_of_participant: long (nullable = true)\n",
      " |-- clinic_branch: string (nullable = true)\n",
      " |-- head_clinician: string (nullable = true)\n",
      " |-- assistants_role: string (nullable = false)\n",
      " |-- drug_used: string (nullable = true)\n",
      " |-- experiment_end_date: string (nullable = true)\n",
      " |-- experiment_start_date: string (nullable = true)\n",
      " |-- hours_passed_at_first_reaction: long (nullable = false)\n",
      " |-- conclusion: string (nullable = false)\n",
      " |-- observed_side_effects: string (nullable = true)\n",
      "\n"
     ]
    }
   ],
   "source": [
    "new_trials_df.printSchema()"
   ]
  },
  {
   "cell_type": "code",
   "execution_count": 87,
   "metadata": {},
   "outputs": [],
   "source": [
    "from pyspark.sql import types as dtypes"
   ]
  },
  {
   "cell_type": "code",
   "execution_count": 88,
   "metadata": {},
   "outputs": [
    {
     "name": "stdout",
     "output_type": "stream",
     "text": [
      "+------------------+-------------+--------------+---------------+---------+-------------------+---------------------+------------------------------+-------------+---------------------+-------------+\n",
      "|age_of_participant|clinic_branch|head_clinician|assistants_role|drug_used|experiment_end_date|experiment_start_date|hours_passed_at_first_reaction|   conclusion|observed_side_effects|       end ts|\n",
      "+------------------+-------------+--------------+---------------+---------+-------------------+---------------------+------------------------------+-------------+---------------------+-------------+\n",
      "|                19|      Ontario|          Saul|      therapist|  Placebo|      1619827200000|        1617235200000|                            52|BP normalized|       rashes on neck|1619827200000|\n",
      "|                14|      Ontario|          Saul|          nurse| Naproxen|      1619827200000|        1617235200000|                            78|    Follow-up|                  N/A|1619827200000|\n",
      "|                17|      Ontario|          Saul|          nurse|  Placebo|      1619827200000|        1617235200000|                            14|    Follow-up|                  N/A|1619827200000|\n",
      "+------------------+-------------+--------------+---------------+---------+-------------------+---------------------+------------------------------+-------------+---------------------+-------------+\n",
      "only showing top 3 rows\n",
      "\n"
     ]
    }
   ],
   "source": [
    "# convert datatype\n",
    "new_trials_df.withColumn('end ts', fn.col('experiment_end_date').cast(dtypes.LongType())).show(3)"
   ]
  },
  {
   "cell_type": "code",
   "execution_count": 89,
   "metadata": {},
   "outputs": [],
   "source": [
    "# convert data types to integers (long)\n",
    "# divide by 1000\n",
    "# convert from unix to datetime\n",
    "\n",
    "new_trials_df = new_trials_df\\\n",
    "    .withColumn('start ts', fn.from_unixtime(fn.col('experiment_start_date').cast(dtypes.LongType())/1000, \"yyyy-MM-dd HH:mm:ss\")) \\\n",
    "    .withColumn('start ts', fn.col('start ts').cast(dtypes.TimestampType()))\\\n",
    "        .withColumn('end ts', fn.from_unixtime(fn.col('experiment_end_date').cast(dtypes.LongType())/1000, \"yyyy-MM-dd HH:mm:ss\")) \\\n",
    "        .withColumn('end ts', fn.col('end ts').cast(dtypes.TimestampType()))"
   ]
  },
  {
   "cell_type": "code",
   "execution_count": 90,
   "metadata": {},
   "outputs": [
    {
     "data": {
      "text/plain": [
       "[('age_of_participant', 'bigint'),\n",
       " ('clinic_branch', 'string'),\n",
       " ('head_clinician', 'string'),\n",
       " ('assistants_role', 'string'),\n",
       " ('drug_used', 'string'),\n",
       " ('experiment_end_date', 'string'),\n",
       " ('experiment_start_date', 'string'),\n",
       " ('hours_passed_at_first_reaction', 'bigint'),\n",
       " ('conclusion', 'string'),\n",
       " ('observed_side_effects', 'string'),\n",
       " ('start ts', 'timestamp'),\n",
       " ('end ts', 'timestamp')]"
      ]
     },
     "execution_count": 90,
     "metadata": {},
     "output_type": "execute_result"
    }
   ],
   "source": [
    "new_trials_df.dtypes"
   ]
  },
  {
   "cell_type": "code",
   "execution_count": 91,
   "metadata": {},
   "outputs": [
    {
     "name": "stdout",
     "output_type": "stream",
     "text": [
      "+------------------+-------------+--------------+---------------+---------+-------------------+---------------------+------------------------------+-------------+---------------------+-------------------+-------------------+\n",
      "|age_of_participant|clinic_branch|head_clinician|assistants_role|drug_used|experiment_end_date|experiment_start_date|hours_passed_at_first_reaction|   conclusion|observed_side_effects|           start ts|             end ts|\n",
      "+------------------+-------------+--------------+---------------+---------+-------------------+---------------------+------------------------------+-------------+---------------------+-------------------+-------------------+\n",
      "|                19|      Ontario|          Saul|      therapist|  Placebo|      1619827200000|        1617235200000|                            52|BP normalized|       rashes on neck|2021-04-01 01:00:00|2021-05-01 01:00:00|\n",
      "|                14|      Ontario|          Saul|          nurse| Naproxen|      1619827200000|        1617235200000|                            78|    Follow-up|                  N/A|2021-04-01 01:00:00|2021-05-01 01:00:00|\n",
      "|                17|      Ontario|          Saul|          nurse|  Placebo|      1619827200000|        1617235200000|                            14|    Follow-up|                  N/A|2021-04-01 01:00:00|2021-05-01 01:00:00|\n",
      "+------------------+-------------+--------------+---------------+---------+-------------------+---------------------+------------------------------+-------------+---------------------+-------------------+-------------------+\n",
      "only showing top 3 rows\n",
      "\n"
     ]
    }
   ],
   "source": [
    "new_trials_df.show(3)"
   ]
  }
 ],
 "metadata": {
  "kernelspec": {
   "display_name": "Python 3",
   "language": "python",
   "name": "python3"
  },
  "language_info": {
   "codemirror_mode": {
    "name": "ipython",
    "version": 3
   },
   "file_extension": ".py",
   "mimetype": "text/x-python",
   "name": "python",
   "nbconvert_exporter": "python",
   "pygments_lexer": "ipython3",
   "version": "3.10.11"
  },
  "orig_nbformat": 4
 },
 "nbformat": 4,
 "nbformat_minor": 2
}
